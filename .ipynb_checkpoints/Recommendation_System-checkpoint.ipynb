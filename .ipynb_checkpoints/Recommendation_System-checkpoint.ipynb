{
 "cells": [
  {
   "cell_type": "code",
   "execution_count": 1,
   "metadata": {},
   "outputs": [],
   "source": [
    "import numpy as np\n",
    "import matplotlib.pyplot as plt"
   ]
  },
  {
   "cell_type": "markdown",
   "metadata": {},
   "source": [
    "#### 학습데이터 셋 지정\n",
    "grape = 과일\n",
    "fish = 단백질\n",
    "carrot = 채소\n",
    "orange = 과일\n",
    "celery = 채소\n",
    "cheese = 단백질"
   ]
  },
  {
   "cell_type": "code",
   "execution_count": 2,
   "metadata": {},
   "outputs": [
    {
     "name": "stdout",
     "output_type": "stream",
     "text": [
      "단맛 입력(1~10):8\n",
      "아삭거림 입력(1~10):4\n"
     ]
    }
   ],
   "source": [
    "grape = [8, 5]\n",
    "fish = [2, 3]\n",
    "carrot = [7, 10]\n",
    "orange = [7, 3]\n",
    "celery = [3, 8]\n",
    "cheese = [1, 1]\n",
    "category = ['과일', '단백질', '채소', '과일', '채소', '단백질']\n",
    "\n",
    "# 분류대상\n",
    "dan = int(input('단맛 입력(1~10):'))\n",
    "asac =  int(input('아삭거림 입력(1~10):'))\n",
    "target = [dan, asac]"
   ]
  },
  {
   "cell_type": "code",
   "execution_count": 5,
   "metadata": {},
   "outputs": [],
   "source": [
    "def data_set():\n",
    "    dataset = np.array([grape,fish,carrot,orange,celery,cheese]) # 분류집단\n",
    "    size = len(dataset)\n",
    "    class_target = np.tile(target, (size, 1))   # 분류대상\n",
    "    class_category = np.array(category)         # 분류범주\n",
    "    \n",
    "    return dataset, class_target, class_category\n",
    "\n",
    "# dataset 생성\n",
    "dataset, class_target, class_categoty = data_set()   # data_set()함수 호출"
   ]
  },
  {
   "cell_type": "code",
   "execution_count": 6,
   "metadata": {},
   "outputs": [],
   "source": [
    "def classify(dataset, class_target, class_categoty, k):\n",
    "    # 유클리드 거리 계산\n",
    "    diffMat = class_target - dataset   # 두 점의 차\n",
    "    sqDiffMat = diffMat**2             # 차에 대한 제곱\n",
    "    row_sum = sqDiffMat.sum(axis=1)    # 차에 대한 제곱에 대한 합\n",
    "    distance = np.sqrt(row_sum)        # 차에 대한 제곱에 대한 합의 제곱근(최종거리)\n",
    "    \n",
    "    # 가까운 거리 오름차순 정렬\n",
    "    sortDist = distance.argsort()\n",
    "    \n",
    "    # 이웃한 k개 선정\n",
    "    class_result = {}\n",
    "    for i in range(k):\n",
    "        c = class_categoty[sortDist[i]]\n",
    "        class_result[c] = class_result.get(c, 0) + 1\n",
    "\n",
    "    return class_result"
   ]
  },
  {
   "cell_type": "code",
   "execution_count": 7,
   "metadata": {},
   "outputs": [
    {
     "name": "stdout",
     "output_type": "stream",
     "text": [
      "k값 입력(1~3):3\n",
      "{'과일': 2, '단백질': 1}\n"
     ]
    }
   ],
   "source": [
    "# 함수 호출\n",
    "k = int(input('k값 입력(1~3):'))\n",
    "class_result = classify(dataset, class_target, class_categoty, k)  # classify()함수호출\n",
    "print(class_result)"
   ]
  },
  {
   "cell_type": "code",
   "execution_count": 8,
   "metadata": {},
   "outputs": [
    {
     "name": "stdout",
     "output_type": "stream",
     "text": [
      "분류대상은 과일 입니다\n"
     ]
    }
   ],
   "source": [
    "# 분류결과 출력 함수 정의\n",
    "def classify_result(class_result):\n",
    "    protein = fruit = vegetable = 0\n",
    "    \n",
    "    for c in class_result.keys():\n",
    "        if c == '단백질':\n",
    "            protein = class_result[c]\n",
    "        elif c =='과일':\n",
    "            fruit = class_result[c]\n",
    "        else :\n",
    "            vegetable = class_result[c]\n",
    "\n",
    "    if protein > fruit and protein > vegetable:\n",
    "        result = \"분류대상은 단백질 입니다.\"\n",
    "    elif fruit > protein and fruit > vegetable:\n",
    "        result = \"분류대상은 과일 입니다\"\n",
    "    else:\n",
    "        result = \"분류대상은 채소 입니다.\"\n",
    "        \n",
    "    return result\n",
    "\n",
    "\n",
    "a = classify_result(class_result)\n",
    "print(a)"
   ]
  },
  {
   "cell_type": "code",
   "execution_count": null,
   "metadata": {},
   "outputs": [],
   "source": []
  }
 ],
 "metadata": {
  "kernelspec": {
   "display_name": "Python 3",
   "language": "python",
   "name": "python3"
  },
  "language_info": {
   "codemirror_mode": {
    "name": "ipython",
    "version": 3
   },
   "file_extension": ".py",
   "mimetype": "text/x-python",
   "name": "python",
   "nbconvert_exporter": "python",
   "pygments_lexer": "ipython3",
   "version": "3.7.4"
  }
 },
 "nbformat": 4,
 "nbformat_minor": 2
}
